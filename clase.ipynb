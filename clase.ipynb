{
 "cells": [
  {
   "attachments": {},
   "cell_type": "markdown",
   "metadata": {},
   "source": [
    "# Pandas"
   ]
  },
  {
   "cell_type": "code",
   "execution_count": 62,
   "metadata": {},
   "outputs": [
    {
     "data": {
      "text/plain": [
       "0      Matemática\n",
       "1        Historia\n",
       "2        Economía\n",
       "3    Programacion\n",
       "dtype: string"
      ]
     },
     "execution_count": 62,
     "metadata": {},
     "output_type": "execute_result"
    }
   ],
   "source": [
    "import pandas as pd\n",
    "\n",
    "disciplinas =pd.Series(['Matemática','Historia','Economía', 'Programacion'],dtype = 'string')\n",
    "disciplinas"
   ]
  },
  {
   "cell_type": "code",
   "execution_count": 63,
   "metadata": {},
   "outputs": [
    {
     "name": "stdout",
     "output_type": "stream",
     "text": [
      "0    1\n",
      "1    2\n",
      "2    3\n",
      "3    4\n",
      "4    5\n",
      "5    6\n",
      "6    7\n",
      "dtype: int64\n",
      "7\n",
      "RangeIndex(start=0, stop=7, step=1)\n"
     ]
    }
   ],
   "source": [
    "numeros = pd.Series ([1,2,3,4,5,6,7])\n",
    "print(numeros)\n",
    "print (numeros.size)\n",
    "print(numeros.index)"
   ]
  },
  {
   "attachments": {},
   "cell_type": "markdown",
   "metadata": {},
   "source": []
  },
  {
   "cell_type": "code",
   "execution_count": 64,
   "metadata": {},
   "outputs": [
    {
     "name": "stdout",
     "output_type": "stream",
     "text": [
      "0    1.0\n",
      "1    2.0\n",
      "2    3.0\n",
      "3    4.0\n",
      "4    5.0\n",
      "5    6.0\n",
      "6    7.0\n",
      "7    NaN\n",
      "dtype: float64\n",
      "8\n",
      "RangeIndex(start=0, stop=8, step=1)\n"
     ]
    },
    {
     "data": {
      "text/plain": [
       "7"
      ]
     },
     "execution_count": 64,
     "metadata": {},
     "output_type": "execute_result"
    }
   ],
   "source": [
    "numeros.count() \n",
    "numeros = pd.Series ([1,2,3,4,5,6,7, None])\n",
    "print(numeros)\n",
    "print (numeros.size)\n",
    "print(numeros.index)\n",
    "numeros.count()"
   ]
  },
  {
   "attachments": {},
   "cell_type": "markdown",
   "metadata": {},
   "source": [
    "operadpres"
   ]
  },
  {
   "cell_type": "code",
   "execution_count": 65,
   "metadata": {},
   "outputs": [
    {
     "data": {
      "text/plain": [
       "0     3.0\n",
       "1     6.0\n",
       "2     9.0\n",
       "3    12.0\n",
       "4    15.0\n",
       "5    18.0\n",
       "6    21.0\n",
       "7     NaN\n",
       "dtype: float64"
      ]
     },
     "execution_count": 65,
     "metadata": {},
     "output_type": "execute_result"
    }
   ],
   "source": [
    "numeros*3"
   ]
  },
  {
   "cell_type": "markdown",
   "metadata": {},
   "source": [
    "metodo apply aplicar uuna funcion a todo"
   ]
  },
  {
   "cell_type": "code",
   "execution_count": 66,
   "metadata": {},
   "outputs": [
    {
     "data": {
      "text/plain": [
       "0     4.0\n",
       "1     7.0\n",
       "2    12.0\n",
       "3    19.0\n",
       "4    28.0\n",
       "5    39.0\n",
       "6    52.0\n",
       "7     NaN\n",
       "dtype: float64"
      ]
     },
     "execution_count": 66,
     "metadata": {},
     "output_type": "execute_result"
    }
   ],
   "source": [
    "numeros.apply(lambda x: x**2+3)"
   ]
  },
  {
   "cell_type": "code",
   "execution_count": 67,
   "metadata": {},
   "outputs": [
    {
     "data": {
      "text/plain": [
       "5    6.0\n",
       "6    7.0\n",
       "dtype: float64"
      ]
     },
     "execution_count": 67,
     "metadata": {},
     "output_type": "execute_result"
    }
   ],
   "source": [
    "numeros[numeros>5]"
   ]
  },
  {
   "cell_type": "code",
   "execution_count": 68,
   "metadata": {},
   "outputs": [
    {
     "data": {
      "text/plain": [
       "0    1.0\n",
       "1    2.0\n",
       "2    3.0\n",
       "3    4.0\n",
       "4    5.0\n",
       "5    6.0\n",
       "6    7.0\n",
       "7    NaN\n",
       "dtype: float64"
      ]
     },
     "execution_count": 68,
     "metadata": {},
     "output_type": "execute_result"
    }
   ],
   "source": [
    "numeros.sort_values()"
   ]
  },
  {
   "cell_type": "code",
   "execution_count": 69,
   "metadata": {},
   "outputs": [
    {
     "data": {
      "text/plain": [
       "0    1.0\n",
       "1    2.0\n",
       "2    3.0\n",
       "3    4.0\n",
       "4    5.0\n",
       "5    6.0\n",
       "6    7.0\n",
       "7    NaN\n",
       "dtype: float64"
      ]
     },
     "execution_count": 69,
     "metadata": {},
     "output_type": "execute_result"
    }
   ],
   "source": [
    "numeros.sort_index()"
   ]
  },
  {
   "cell_type": "code",
   "execution_count": 70,
   "metadata": {},
   "outputs": [
    {
     "name": "stdout",
     "output_type": "stream",
     "text": [
      "0    1.0\n",
      "1    2.0\n",
      "2    3.0\n",
      "3    4.0\n",
      "4    5.0\n",
      "5    6.0\n",
      "6    7.0\n",
      "7    NaN\n",
      "dtype: float64\n",
      "0    1.0\n",
      "1    2.0\n",
      "2    3.0\n",
      "3    4.0\n",
      "4    5.0\n",
      "5    6.0\n",
      "6    7.0\n",
      "dtype: float64\n"
     ]
    }
   ],
   "source": [
    "numerosSinNone = numeros.dropna() #devuelve sin los None\n",
    "print (numeros)\n",
    "print( numerosSinNone)"
   ]
  },
  {
   "cell_type": "code",
   "execution_count": 71,
   "metadata": {},
   "outputs": [
    {
     "data": {
      "text/html": [
       "<div>\n",
       "<style scoped>\n",
       "    .dataframe tbody tr th:only-of-type {\n",
       "        vertical-align: middle;\n",
       "    }\n",
       "\n",
       "    .dataframe tbody tr th {\n",
       "        vertical-align: top;\n",
       "    }\n",
       "\n",
       "    .dataframe thead th {\n",
       "        text-align: right;\n",
       "    }\n",
       "</style>\n",
       "<table border=\"1\" class=\"dataframe\">\n",
       "  <thead>\n",
       "    <tr style=\"text-align: right;\">\n",
       "      <th></th>\n",
       "      <th>juan</th>\n",
       "      <th>ana</th>\n",
       "    </tr>\n",
       "  </thead>\n",
       "  <tbody>\n",
       "    <tr>\n",
       "      <th>parcial 1</th>\n",
       "      <td>7</td>\n",
       "      <td>2</td>\n",
       "    </tr>\n",
       "    <tr>\n",
       "      <th>parcial 2</th>\n",
       "      <td>6</td>\n",
       "      <td>4</td>\n",
       "    </tr>\n",
       "    <tr>\n",
       "      <th>parcial 3</th>\n",
       "      <td>8</td>\n",
       "      <td>7</td>\n",
       "    </tr>\n",
       "  </tbody>\n",
       "</table>\n",
       "</div>"
      ],
      "text/plain": [
       "           juan  ana\n",
       "parcial 1     7    2\n",
       "parcial 2     6    4\n",
       "parcial 3     8    7"
      ]
     },
     "execution_count": 71,
     "metadata": {},
     "output_type": "execute_result"
    }
   ],
   "source": [
    "#usando el constructor de la clase dicc\n",
    "\n",
    "diccionario = dict(juan=[7,6,8], ana=[2,4,7])\n",
    "diccionario\n",
    "df = pd.DataFrame(diccionario, index =['parcial 1','parcial 2','parcial 3'])\n",
    "df"
   ]
  },
  {
   "cell_type": "code",
   "execution_count": 72,
   "metadata": {},
   "outputs": [
    {
     "data": {
      "text/html": [
       "<div>\n",
       "<style scoped>\n",
       "    .dataframe tbody tr th:only-of-type {\n",
       "        vertical-align: middle;\n",
       "    }\n",
       "\n",
       "    .dataframe tbody tr th {\n",
       "        vertical-align: top;\n",
       "    }\n",
       "\n",
       "    .dataframe thead th {\n",
       "        text-align: right;\n",
       "    }\n",
       "</style>\n",
       "<table border=\"1\" class=\"dataframe\">\n",
       "  <thead>\n",
       "    <tr style=\"text-align: right;\">\n",
       "      <th></th>\n",
       "      <th>nombre;edad;sexo;peso;altura;colesterol</th>\n",
       "    </tr>\n",
       "  </thead>\n",
       "  <tbody>\n",
       "    <tr>\n",
       "      <th>José Luis Martínez Izquierdo;18;H;85;1</th>\n",
       "      <td>79;182</td>\n",
       "    </tr>\n",
       "    <tr>\n",
       "      <th>Rosa Díaz Díaz;32;M;65;1</th>\n",
       "      <td>73;232</td>\n",
       "    </tr>\n",
       "    <tr>\n",
       "      <th>Javier García Sánchez;24;H;;1</th>\n",
       "      <td>81;191</td>\n",
       "    </tr>\n",
       "    <tr>\n",
       "      <th>Carmen López Pinzón;35;M;65;1</th>\n",
       "      <td>70;200</td>\n",
       "    </tr>\n",
       "    <tr>\n",
       "      <th>Marisa López Collado;46;M;51;1</th>\n",
       "      <td>58;148</td>\n",
       "    </tr>\n",
       "    <tr>\n",
       "      <th>Antonio Ruiz Cruz;68;H;66;1</th>\n",
       "      <td>74;249</td>\n",
       "    </tr>\n",
       "    <tr>\n",
       "      <th>Antonio Fernández Ocaña;51;H;62;1</th>\n",
       "      <td>72;276</td>\n",
       "    </tr>\n",
       "    <tr>\n",
       "      <th>Pilar Martín González;22;M;60;1</th>\n",
       "      <td>66;</td>\n",
       "    </tr>\n",
       "    <tr>\n",
       "      <th>Pedro Gálvez Tenorio;35;H;90;1</th>\n",
       "      <td>94;241</td>\n",
       "    </tr>\n",
       "    <tr>\n",
       "      <th>Santiago Reillo Manzano;46;H;75;1</th>\n",
       "      <td>85;280</td>\n",
       "    </tr>\n",
       "    <tr>\n",
       "      <th>Macarena Álvarez Luna;53;M;55;1</th>\n",
       "      <td>62;262</td>\n",
       "    </tr>\n",
       "    <tr>\n",
       "      <th>José María de la Guía Sanz;58;H;78;1</th>\n",
       "      <td>87;198</td>\n",
       "    </tr>\n",
       "    <tr>\n",
       "      <th>Miguel Angel Cuadrado Gutiérrez;27;H;109;1</th>\n",
       "      <td>98;210</td>\n",
       "    </tr>\n",
       "    <tr>\n",
       "      <th>Carolina Rubio Moreno;20;M;61;1</th>\n",
       "      <td>77;194</td>\n",
       "    </tr>\n",
       "  </tbody>\n",
       "</table>\n",
       "</div>"
      ],
      "text/plain": [
       "                                           nombre;edad;sexo;peso;altura;colesterol\n",
       "José Luis Martínez Izquierdo;18;H;85;1                                      79;182\n",
       "Rosa Díaz Díaz;32;M;65;1                                                    73;232\n",
       "Javier García Sánchez;24;H;;1                                               81;191\n",
       "Carmen López Pinzón;35;M;65;1                                               70;200\n",
       "Marisa López Collado;46;M;51;1                                              58;148\n",
       "Antonio Ruiz Cruz;68;H;66;1                                                 74;249\n",
       "Antonio Fernández Ocaña;51;H;62;1                                           72;276\n",
       "Pilar Martín González;22;M;60;1                                                66;\n",
       "Pedro Gálvez Tenorio;35;H;90;1                                              94;241\n",
       "Santiago Reillo Manzano;46;H;75;1                                           85;280\n",
       "Macarena Álvarez Luna;53;M;55;1                                             62;262\n",
       "José María de la Guía Sanz;58;H;78;1                                        87;198\n",
       "Miguel Angel Cuadrado Gutiérrez;27;H;109;1                                  98;210\n",
       "Carolina Rubio Moreno;20;M;61;1                                             77;194"
      ]
     },
     "execution_count": 72,
     "metadata": {},
     "output_type": "execute_result"
    }
   ],
   "source": [
    "dr = pd.read_csv(r'C:\\Users\\Luca\\Desktop\\VsCode\\Data Scientist\\CURSADO HENRY DTS09\\MOODULO 1\\homework 4 pandas\\colesterol.csv')\n",
    "dr"
   ]
  },
  {
   "cell_type": "code",
   "execution_count": 73,
   "metadata": {},
   "outputs": [
    {
     "data": {
      "text/html": [
       "<div>\n",
       "<style scoped>\n",
       "    .dataframe tbody tr th:only-of-type {\n",
       "        vertical-align: middle;\n",
       "    }\n",
       "\n",
       "    .dataframe tbody tr th {\n",
       "        vertical-align: top;\n",
       "    }\n",
       "\n",
       "    .dataframe thead th {\n",
       "        text-align: right;\n",
       "    }\n",
       "</style>\n",
       "<table border=\"1\" class=\"dataframe\">\n",
       "  <thead>\n",
       "    <tr style=\"text-align: right;\">\n",
       "      <th></th>\n",
       "      <th>nombre</th>\n",
       "      <th>edad</th>\n",
       "      <th>sexo</th>\n",
       "      <th>peso</th>\n",
       "      <th>altura</th>\n",
       "      <th>colesterol</th>\n",
       "    </tr>\n",
       "  </thead>\n",
       "  <tbody>\n",
       "    <tr>\n",
       "      <th>0</th>\n",
       "      <td>José Luis Martínez Izquierdo</td>\n",
       "      <td>18</td>\n",
       "      <td>H</td>\n",
       "      <td>85.0</td>\n",
       "      <td>1.79</td>\n",
       "      <td>182.0</td>\n",
       "    </tr>\n",
       "    <tr>\n",
       "      <th>1</th>\n",
       "      <td>Rosa Díaz Díaz</td>\n",
       "      <td>32</td>\n",
       "      <td>M</td>\n",
       "      <td>65.0</td>\n",
       "      <td>1.73</td>\n",
       "      <td>232.0</td>\n",
       "    </tr>\n",
       "    <tr>\n",
       "      <th>2</th>\n",
       "      <td>Javier García Sánchez</td>\n",
       "      <td>24</td>\n",
       "      <td>H</td>\n",
       "      <td>NaN</td>\n",
       "      <td>1.81</td>\n",
       "      <td>191.0</td>\n",
       "    </tr>\n",
       "    <tr>\n",
       "      <th>3</th>\n",
       "      <td>Carmen López Pinzón</td>\n",
       "      <td>35</td>\n",
       "      <td>M</td>\n",
       "      <td>65.0</td>\n",
       "      <td>1.70</td>\n",
       "      <td>200.0</td>\n",
       "    </tr>\n",
       "    <tr>\n",
       "      <th>4</th>\n",
       "      <td>Marisa López Collado</td>\n",
       "      <td>46</td>\n",
       "      <td>M</td>\n",
       "      <td>51.0</td>\n",
       "      <td>1.58</td>\n",
       "      <td>148.0</td>\n",
       "    </tr>\n",
       "    <tr>\n",
       "      <th>5</th>\n",
       "      <td>Antonio Ruiz Cruz</td>\n",
       "      <td>68</td>\n",
       "      <td>H</td>\n",
       "      <td>66.0</td>\n",
       "      <td>1.74</td>\n",
       "      <td>249.0</td>\n",
       "    </tr>\n",
       "    <tr>\n",
       "      <th>6</th>\n",
       "      <td>Antonio Fernández Ocaña</td>\n",
       "      <td>51</td>\n",
       "      <td>H</td>\n",
       "      <td>62.0</td>\n",
       "      <td>1.72</td>\n",
       "      <td>276.0</td>\n",
       "    </tr>\n",
       "    <tr>\n",
       "      <th>7</th>\n",
       "      <td>Pilar Martín González</td>\n",
       "      <td>22</td>\n",
       "      <td>M</td>\n",
       "      <td>60.0</td>\n",
       "      <td>1.66</td>\n",
       "      <td>NaN</td>\n",
       "    </tr>\n",
       "    <tr>\n",
       "      <th>8</th>\n",
       "      <td>Pedro Gálvez Tenorio</td>\n",
       "      <td>35</td>\n",
       "      <td>H</td>\n",
       "      <td>90.0</td>\n",
       "      <td>1.94</td>\n",
       "      <td>241.0</td>\n",
       "    </tr>\n",
       "    <tr>\n",
       "      <th>9</th>\n",
       "      <td>Santiago Reillo Manzano</td>\n",
       "      <td>46</td>\n",
       "      <td>H</td>\n",
       "      <td>75.0</td>\n",
       "      <td>1.85</td>\n",
       "      <td>280.0</td>\n",
       "    </tr>\n",
       "    <tr>\n",
       "      <th>10</th>\n",
       "      <td>Macarena Álvarez Luna</td>\n",
       "      <td>53</td>\n",
       "      <td>M</td>\n",
       "      <td>55.0</td>\n",
       "      <td>1.62</td>\n",
       "      <td>262.0</td>\n",
       "    </tr>\n",
       "    <tr>\n",
       "      <th>11</th>\n",
       "      <td>José María de la Guía Sanz</td>\n",
       "      <td>58</td>\n",
       "      <td>H</td>\n",
       "      <td>78.0</td>\n",
       "      <td>1.87</td>\n",
       "      <td>198.0</td>\n",
       "    </tr>\n",
       "    <tr>\n",
       "      <th>12</th>\n",
       "      <td>Miguel Angel Cuadrado Gutiérrez</td>\n",
       "      <td>27</td>\n",
       "      <td>H</td>\n",
       "      <td>109.0</td>\n",
       "      <td>1.98</td>\n",
       "      <td>210.0</td>\n",
       "    </tr>\n",
       "    <tr>\n",
       "      <th>13</th>\n",
       "      <td>Carolina Rubio Moreno</td>\n",
       "      <td>20</td>\n",
       "      <td>M</td>\n",
       "      <td>61.0</td>\n",
       "      <td>1.77</td>\n",
       "      <td>194.0</td>\n",
       "    </tr>\n",
       "  </tbody>\n",
       "</table>\n",
       "</div>"
      ],
      "text/plain": [
       "                             nombre  edad sexo   peso  altura  colesterol\n",
       "0      José Luis Martínez Izquierdo    18    H   85.0    1.79       182.0\n",
       "1                    Rosa Díaz Díaz    32    M   65.0    1.73       232.0\n",
       "2             Javier García Sánchez    24    H    NaN    1.81       191.0\n",
       "3               Carmen López Pinzón    35    M   65.0    1.70       200.0\n",
       "4              Marisa López Collado    46    M   51.0    1.58       148.0\n",
       "5                 Antonio Ruiz Cruz    68    H   66.0    1.74       249.0\n",
       "6           Antonio Fernández Ocaña    51    H   62.0    1.72       276.0\n",
       "7             Pilar Martín González    22    M   60.0    1.66         NaN\n",
       "8              Pedro Gálvez Tenorio    35    H   90.0    1.94       241.0\n",
       "9           Santiago Reillo Manzano    46    H   75.0    1.85       280.0\n",
       "10            Macarena Álvarez Luna    53    M   55.0    1.62       262.0\n",
       "11       José María de la Guía Sanz    58    H   78.0    1.87       198.0\n",
       "12  Miguel Angel Cuadrado Gutiérrez    27    H  109.0    1.98       210.0\n",
       "13            Carolina Rubio Moreno    20    M   61.0    1.77       194.0"
      ]
     },
     "execution_count": 73,
     "metadata": {},
     "output_type": "execute_result"
    }
   ],
   "source": [
    "dr = pd.read_csv(r'C:\\Users\\Luca\\Desktop\\VsCode\\Data Scientist\\CURSADO HENRY DTS09\\MOODULO 1\\homework 4 pandas\\colesterol.csv',sep= ';', decimal= ',' )\n",
    "dr\n"
   ]
  },
  {
   "cell_type": "code",
   "execution_count": 74,
   "metadata": {},
   "outputs": [
    {
     "name": "stdout",
     "output_type": "stream",
     "text": [
      "<class 'pandas.core.frame.DataFrame'>\n",
      "RangeIndex: 14 entries, 0 to 13\n",
      "Data columns (total 6 columns):\n",
      " #   Column      Non-Null Count  Dtype  \n",
      "---  ------      --------------  -----  \n",
      " 0   nombre      14 non-null     object \n",
      " 1   edad        14 non-null     int64  \n",
      " 2   sexo        14 non-null     object \n",
      " 3   peso        13 non-null     float64\n",
      " 4   altura      14 non-null     float64\n",
      " 5   colesterol  13 non-null     float64\n",
      "dtypes: float64(3), int64(1), object(2)\n",
      "memory usage: 800.0+ bytes\n"
     ]
    }
   ],
   "source": [
    "dr.info()"
   ]
  },
  {
   "cell_type": "code",
   "execution_count": 75,
   "metadata": {},
   "outputs": [
    {
     "data": {
      "text/plain": [
       "84"
      ]
     },
     "execution_count": 75,
     "metadata": {},
     "output_type": "execute_result"
    }
   ],
   "source": [
    "dr.size #cuenta todos los valores del dataframe"
   ]
  },
  {
   "cell_type": "code",
   "execution_count": 76,
   "metadata": {},
   "outputs": [
    {
     "name": "stdout",
     "output_type": "stream",
     "text": [
      "<class 'pandas.core.frame.DataFrame'>\n",
      "Index: 3 entries, parcial 1 to parcial 3\n",
      "Data columns (total 2 columns):\n",
      " #   Column  Non-Null Count  Dtype\n",
      "---  ------  --------------  -----\n",
      " 0   juan    3 non-null      int64\n",
      " 1   ana     3 non-null      int64\n",
      "dtypes: int64(2)\n",
      "memory usage: 72.0+ bytes\n"
     ]
    }
   ],
   "source": [
    "df.info()"
   ]
  },
  {
   "cell_type": "code",
   "execution_count": 77,
   "metadata": {},
   "outputs": [
    {
     "data": {
      "text/plain": [
       "84"
      ]
     },
     "execution_count": 77,
     "metadata": {},
     "output_type": "execute_result"
    }
   ],
   "source": [
    "dr.size"
   ]
  },
  {
   "cell_type": "code",
   "execution_count": 78,
   "metadata": {},
   "outputs": [
    {
     "data": {
      "text/html": [
       "<div>\n",
       "<style scoped>\n",
       "    .dataframe tbody tr th:only-of-type {\n",
       "        vertical-align: middle;\n",
       "    }\n",
       "\n",
       "    .dataframe tbody tr th {\n",
       "        vertical-align: top;\n",
       "    }\n",
       "\n",
       "    .dataframe thead th {\n",
       "        text-align: right;\n",
       "    }\n",
       "</style>\n",
       "<table border=\"1\" class=\"dataframe\">\n",
       "  <thead>\n",
       "    <tr style=\"text-align: right;\">\n",
       "      <th></th>\n",
       "      <th>nombre</th>\n",
       "      <th>edad</th>\n",
       "      <th>sexo</th>\n",
       "      <th>peso</th>\n",
       "      <th>altura</th>\n",
       "      <th>colesterol</th>\n",
       "    </tr>\n",
       "  </thead>\n",
       "  <tbody>\n",
       "    <tr>\n",
       "      <th>5</th>\n",
       "      <td>Antonio Ruiz Cruz</td>\n",
       "      <td>68</td>\n",
       "      <td>H</td>\n",
       "      <td>66.0</td>\n",
       "      <td>1.74</td>\n",
       "      <td>249.0</td>\n",
       "    </tr>\n",
       "    <tr>\n",
       "      <th>6</th>\n",
       "      <td>Antonio Fernández Ocaña</td>\n",
       "      <td>51</td>\n",
       "      <td>H</td>\n",
       "      <td>62.0</td>\n",
       "      <td>1.72</td>\n",
       "      <td>276.0</td>\n",
       "    </tr>\n",
       "    <tr>\n",
       "      <th>8</th>\n",
       "      <td>Pedro Gálvez Tenorio</td>\n",
       "      <td>35</td>\n",
       "      <td>H</td>\n",
       "      <td>90.0</td>\n",
       "      <td>1.94</td>\n",
       "      <td>241.0</td>\n",
       "    </tr>\n",
       "    <tr>\n",
       "      <th>9</th>\n",
       "      <td>Santiago Reillo Manzano</td>\n",
       "      <td>46</td>\n",
       "      <td>H</td>\n",
       "      <td>75.0</td>\n",
       "      <td>1.85</td>\n",
       "      <td>280.0</td>\n",
       "    </tr>\n",
       "  </tbody>\n",
       "</table>\n",
       "</div>"
      ],
      "text/plain": [
       "                    nombre  edad sexo  peso  altura  colesterol\n",
       "5        Antonio Ruiz Cruz    68    H  66.0    1.74       249.0\n",
       "6  Antonio Fernández Ocaña    51    H  62.0    1.72       276.0\n",
       "8     Pedro Gálvez Tenorio    35    H  90.0    1.94       241.0\n",
       "9  Santiago Reillo Manzano    46    H  75.0    1.85       280.0"
      ]
     },
     "execution_count": 78,
     "metadata": {},
     "output_type": "execute_result"
    }
   ],
   "source": [
    "dr[ (dr['sexo'] == 'H') & (dr['colesterol'] > 210)]"
   ]
  },
  {
   "cell_type": "code",
   "execution_count": 79,
   "metadata": {},
   "outputs": [
    {
     "data": {
      "text/plain": [
       "nombre        Marisa López Collado\n",
       "edad                            46\n",
       "sexo                             M\n",
       "peso                          51.0\n",
       "altura                        1.58\n",
       "colesterol                   148.0\n",
       "Name: 4, dtype: object"
      ]
     },
     "execution_count": 79,
     "metadata": {},
     "output_type": "execute_result"
    }
   ],
   "source": [
    "dr.iloc[4]\n"
   ]
  },
  {
   "cell_type": "code",
   "execution_count": 80,
   "metadata": {},
   "outputs": [
    {
     "data": {
      "text/html": [
       "<div>\n",
       "<style scoped>\n",
       "    .dataframe tbody tr th:only-of-type {\n",
       "        vertical-align: middle;\n",
       "    }\n",
       "\n",
       "    .dataframe tbody tr th {\n",
       "        vertical-align: top;\n",
       "    }\n",
       "\n",
       "    .dataframe thead th {\n",
       "        text-align: right;\n",
       "    }\n",
       "</style>\n",
       "<table border=\"1\" class=\"dataframe\">\n",
       "  <thead>\n",
       "    <tr style=\"text-align: right;\">\n",
       "      <th></th>\n",
       "      <th>edad</th>\n",
       "      <th>peso</th>\n",
       "      <th>altura</th>\n",
       "      <th>colesterol</th>\n",
       "    </tr>\n",
       "  </thead>\n",
       "  <tbody>\n",
       "    <tr>\n",
       "      <th>count</th>\n",
       "      <td>14.000000</td>\n",
       "      <td>13.000000</td>\n",
       "      <td>14.000000</td>\n",
       "      <td>13.000000</td>\n",
       "    </tr>\n",
       "    <tr>\n",
       "      <th>mean</th>\n",
       "      <td>38.214286</td>\n",
       "      <td>70.923077</td>\n",
       "      <td>1.768571</td>\n",
       "      <td>220.230769</td>\n",
       "    </tr>\n",
       "    <tr>\n",
       "      <th>std</th>\n",
       "      <td>15.621379</td>\n",
       "      <td>16.126901</td>\n",
       "      <td>0.115016</td>\n",
       "      <td>39.847948</td>\n",
       "    </tr>\n",
       "    <tr>\n",
       "      <th>min</th>\n",
       "      <td>18.000000</td>\n",
       "      <td>51.000000</td>\n",
       "      <td>1.580000</td>\n",
       "      <td>148.000000</td>\n",
       "    </tr>\n",
       "    <tr>\n",
       "      <th>25%</th>\n",
       "      <td>24.750000</td>\n",
       "      <td>61.000000</td>\n",
       "      <td>1.705000</td>\n",
       "      <td>194.000000</td>\n",
       "    </tr>\n",
       "    <tr>\n",
       "      <th>50%</th>\n",
       "      <td>35.000000</td>\n",
       "      <td>65.000000</td>\n",
       "      <td>1.755000</td>\n",
       "      <td>210.000000</td>\n",
       "    </tr>\n",
       "    <tr>\n",
       "      <th>75%</th>\n",
       "      <td>49.750000</td>\n",
       "      <td>78.000000</td>\n",
       "      <td>1.840000</td>\n",
       "      <td>249.000000</td>\n",
       "    </tr>\n",
       "    <tr>\n",
       "      <th>max</th>\n",
       "      <td>68.000000</td>\n",
       "      <td>109.000000</td>\n",
       "      <td>1.980000</td>\n",
       "      <td>280.000000</td>\n",
       "    </tr>\n",
       "  </tbody>\n",
       "</table>\n",
       "</div>"
      ],
      "text/plain": [
       "            edad        peso     altura  colesterol\n",
       "count  14.000000   13.000000  14.000000   13.000000\n",
       "mean   38.214286   70.923077   1.768571  220.230769\n",
       "std    15.621379   16.126901   0.115016   39.847948\n",
       "min    18.000000   51.000000   1.580000  148.000000\n",
       "25%    24.750000   61.000000   1.705000  194.000000\n",
       "50%    35.000000   65.000000   1.755000  210.000000\n",
       "75%    49.750000   78.000000   1.840000  249.000000\n",
       "max    68.000000  109.000000   1.980000  280.000000"
      ]
     },
     "execution_count": 80,
     "metadata": {},
     "output_type": "execute_result"
    }
   ],
   "source": [
    "dr.describe()"
   ]
  },
  {
   "cell_type": "code",
   "execution_count": 81,
   "metadata": {},
   "outputs": [
    {
     "data": {
      "text/plain": [
       "{'H': [0, 2, 5, 6, 8, 9, 11, 12], 'M': [1, 3, 4, 7, 10, 13]}"
      ]
     },
     "execution_count": 81,
     "metadata": {},
     "output_type": "execute_result"
    }
   ],
   "source": [
    "dr.groupby(['sexo']).groups"
   ]
  },
  {
   "cell_type": "code",
   "execution_count": 82,
   "metadata": {},
   "outputs": [
    {
     "data": {
      "text/html": [
       "<div>\n",
       "<style scoped>\n",
       "    .dataframe tbody tr th:only-of-type {\n",
       "        vertical-align: middle;\n",
       "    }\n",
       "\n",
       "    .dataframe tbody tr th {\n",
       "        vertical-align: top;\n",
       "    }\n",
       "\n",
       "    .dataframe thead th {\n",
       "        text-align: right;\n",
       "    }\n",
       "</style>\n",
       "<table border=\"1\" class=\"dataframe\">\n",
       "  <thead>\n",
       "    <tr style=\"text-align: right;\">\n",
       "      <th></th>\n",
       "      <th>0</th>\n",
       "      <th>1</th>\n",
       "    </tr>\n",
       "  </thead>\n",
       "  <tbody>\n",
       "    <tr>\n",
       "      <th>0</th>\n",
       "      <td>H</td>\n",
       "      <td>0     1.79\n",
       "2     1.81\n",
       "5     1.74\n",
       "6     1.72\n",
       "8 ...</td>\n",
       "    </tr>\n",
       "    <tr>\n",
       "      <th>1</th>\n",
       "      <td>M</td>\n",
       "      <td>1     1.73\n",
       "3     1.70\n",
       "4     1.58\n",
       "7     1.66\n",
       "10...</td>\n",
       "    </tr>\n",
       "  </tbody>\n",
       "</table>\n",
       "</div>"
      ],
      "text/plain": [
       "   0                                                  1\n",
       "0  H  0     1.79\n",
       "2     1.81\n",
       "5     1.74\n",
       "6     1.72\n",
       "8 ...\n",
       "1  M  1     1.73\n",
       "3     1.70\n",
       "4     1.58\n",
       "7     1.66\n",
       "10..."
      ]
     },
     "execution_count": 82,
     "metadata": {},
     "output_type": "execute_result"
    }
   ],
   "source": [
    "pd.DataFrame(dr.groupby('sexo')['altura'])"
   ]
  },
  {
   "cell_type": "code",
   "execution_count": 85,
   "metadata": {},
   "outputs": [],
   "source": [
    "#exportar\n",
    "#dr.to_csv(r'C:\\Users\\Luca\\Desktop\\VsCode\\Data Scientist\\CURSADO HENRY DTS09\\MOODULO 1\\homework 4 pandas')"
   ]
  }
 ],
 "metadata": {
  "kernelspec": {
   "display_name": "Python 3",
   "language": "python",
   "name": "python3"
  },
  "language_info": {
   "codemirror_mode": {
    "name": "ipython",
    "version": 3
   },
   "file_extension": ".py",
   "mimetype": "text/x-python",
   "name": "python",
   "nbconvert_exporter": "python",
   "pygments_lexer": "ipython3",
   "version": "3.10.9 (tags/v3.10.9:1dd9be6, Dec  6 2022, 20:01:21) [MSC v.1934 64 bit (AMD64)]"
  },
  "orig_nbformat": 4,
  "vscode": {
   "interpreter": {
    "hash": "957a0973b20c9ca410cb31745b8585db68510eafaadcea06bf68cd1027372551"
   }
  }
 },
 "nbformat": 4,
 "nbformat_minor": 2
}
